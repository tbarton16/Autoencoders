{
  "nbformat": 4,
  "nbformat_minor": 0,
  "metadata": {
    "colab": {
      "provenance": [],
      "include_colab_link": true
    },
    "kernelspec": {
      "name": "python3",
      "display_name": "Python 3"
    },
    "language_info": {
      "name": "python"
    },
    "accelerator": "GPU",
    "gpuClass": "standard"
  },
  "cells": [
    {
      "cell_type": "markdown",
      "metadata": {
        "id": "view-in-github",
        "colab_type": "text"
      },
      "source": [
        "<a href=\"https://colab.research.google.com/github/tbarton16/Autoencoders/blob/main/autoencoder_practice.ipynb\" target=\"_parent\"><img src=\"https://colab.research.google.com/assets/colab-badge.svg\" alt=\"Open In Colab\"/></a>"
      ]
    },
    {
      "cell_type": "markdown",
      "source": [
        "# Autoencoders: Vanilla and Variational\n",
        "In this notebook, we will code up a vanilla autoencoder and then a varational autoencoder to generate MNIST images."
      ],
      "metadata": {
        "id": "8P5dOymiQPEv"
      }
    },
    {
      "cell_type": "code",
      "execution_count": 64,
      "metadata": {
        "id": "K4hDZ3mcQB0N"
      },
      "outputs": [],
      "source": [
        "import collections\n",
        "import torch\n",
        "import torchvision\n",
        "import torch.nn.functional as F\n",
        "import numpy as np\n",
        "from matplotlib import pyplot as plt\n",
        "import pdb"
      ]
    },
    {
      "cell_type": "markdown",
      "source": [
        "## Hyperparameters"
      ],
      "metadata": {
        "id": "Vv77Dh-IQ0DV"
      }
    },
    {
      "cell_type": "code",
      "source": [
        "lr = 1e-3\n",
        "bsz = 10\n",
        "device =  torch.device('cuda')\n",
        "epochs = 10"
      ],
      "metadata": {
        "id": "TD1fAfrEQyaK"
      },
      "execution_count": 65,
      "outputs": []
    },
    {
      "cell_type": "markdown",
      "source": [
        "## Download MNIST Data"
      ],
      "metadata": {
        "id": "1QQGknf9RX0D"
      }
    },
    {
      "cell_type": "code",
      "source": [
        "transform = torchvision.transforms.Compose([\n",
        "  torchvision.transforms.ToTensor(),\n",
        " # torchvision.transforms.Normalize((0.1307,), (0.3081,))\n",
        "])\n",
        "\n",
        "train_dataset = torchvision.datasets.MNIST('../data', train=True, download=True, transform=transform)\n",
        "validation_dataset = torchvision.datasets.MNIST('../data', train=False, transform=transform)\n",
        "\n",
        "dataloader_train = torch.utils.data.DataLoader(train_dataset, shuffle=True, batch_size = bsz)\n",
        "dataloader_val = torch.utils.data.DataLoader(validation_dataset, shuffle=True, batch_size = bsz)"
      ],
      "metadata": {
        "id": "nXjWamxeRZ-J"
      },
      "execution_count": 40,
      "outputs": []
    },
    {
      "cell_type": "markdown",
      "source": [
        "## Create architecture for AE"
      ],
      "metadata": {
        "id": "q162NU2_RasL"
      }
    },
    {
      "cell_type": "code",
      "source": [
        "class Encoder(torch.nn.Module):\n",
        "  \"\"\"Take image tensors and encode into low-dim\"\"\"\n",
        "  def __init__(self, n_code):\n",
        "    \"\"\" Architexture: convolution layers (2) (4x4) \n",
        "                      fc layers (2) \n",
        "                      output layer needs to be n_code\n",
        "    \"\"\"\n",
        "    super().__init__()\n",
        "    self.n_code = n_code\n",
        "    self.conv1 = torch.nn.Conv2d(in_channels=1, out_channels=10, kernel_size=4) # input (bsz, 1, 28, 28) -> (bsz, 10, 25, 25)\n",
        "    # [(W−K+2P)/S]+1 = (28 - 4 +  ) / 1  + 1 = 25\n",
        "    # 25 - 4 + 0 /1 + 1 = 22\n",
        "    self.conv2 = torch.nn.Conv2d(in_channels=10, out_channels=10, kernel_size=4) # output =(bsz, 10, 22, 22)\n",
        "    self.lin1 = torch.nn.Linear(10* 22 * 22, 256)\n",
        "    self.lin2 = torch.nn.Linear(256, self.n_code)\n",
        "\n",
        "  def forward(self, x):\n",
        "    first_layer = F.relu(self.conv1(x))\n",
        "    second_layer = F.relu(self.conv2(first_layer))# (bsz, 10, 22, 22)\n",
        "    second_layer_flat = second_layer.reshape((second_layer.shape[0], -1))\n",
        "    fc_1 = F.relu(self.lin1(second_layer_flat))\n",
        "    code = self.lin2(fc_1)\n",
        "\n",
        "    return code\n",
        "\n",
        "x = torch.randn(10, 1, 28, 28)\n",
        "tessnet = Encoder(10)\n",
        "print(tessnet(x).shape)"
      ],
      "metadata": {
        "id": "oC1MVK9CRd7A",
        "colab": {
          "base_uri": "https://localhost:8080/"
        },
        "outputId": "af5aa974-d7cf-429e-8fc8-01a927fd92da"
      },
      "execution_count": 4,
      "outputs": [
        {
          "output_type": "stream",
          "name": "stdout",
          "text": [
            "torch.Size([10, 10])\n"
          ]
        }
      ]
    },
    {
      "cell_type": "code",
      "source": [
        "class Decoder(torch.nn.Module):\n",
        "  \"\"\"Input low-dim z and output image\"\"\"\n",
        "  def __init__(self, n_code):\n",
        "    \"\"\"Architecture:\n",
        "        1 fc layer bsz, n_code -> bsz, 256 16x16 \n",
        "        [(W−K+2P)/S]+1 = 20 - k  =15\n",
        "        (28 − K) = 19\n",
        "        up-conv -> (bsz, 1, 20, 20)\n",
        "        output layer needs to be (bsz, 1, 28, 28)\n",
        "    \"\"\"\n",
        "    super().__init__()\n",
        "    self.n_code = n_code\n",
        "    self.fc1 = torch.nn.Linear(n_code, 256)\n",
        "    self.relu1 = torch.nn.ReLU()\n",
        "    self.deconv1 = torch.nn.ConvTranspose2d(1, 2, kernel_size=5)\n",
        "    self.relu2 = torch.nn.ReLU()\n",
        "    self.deconv2 = torch.nn.ConvTranspose2d(2, 1, kernel_size=9)\n",
        "\n",
        "  def forward(self, x):\n",
        "    fc1_output = self.fc1(x) \n",
        "    new_dim = int(np.sqrt(fc1_output.shape[1]))\n",
        "    fc1_square = fc1_output.reshape(fc1_output.shape[0], 1, new_dim, new_dim)\n",
        "    deconv1 = self.deconv1(self.relu1(fc1_square))\n",
        "    deconv2 = self.deconv2(self.relu2(deconv1))\n",
        "    return deconv2\n",
        "\n",
        "x = torch.randn(10, 10)\n",
        "d = Decoder(10)\n",
        "print(d(x).shape) "
      ],
      "metadata": {
        "colab": {
          "base_uri": "https://localhost:8080/"
        },
        "id": "qienw9VpYG7-",
        "outputId": "d4a21b9e-2a95-4445-b3a9-113599039b4f"
      },
      "execution_count": 5,
      "outputs": [
        {
          "output_type": "stream",
          "name": "stdout",
          "text": [
            "torch.Size([10, 1, 28, 28])\n"
          ]
        }
      ]
    },
    {
      "cell_type": "code",
      "source": [
        "class AutoEncoder(torch.nn.Module):\n",
        "  \"\"\"Input a image, output an image\n",
        "  \"\"\"\n",
        "  def __init__(self, n_dim):\n",
        "    super().__init__()\n",
        "    self.encoder = Encoder(n_dim)\n",
        "    self.decoder = Decoder(n_dim)\n",
        "  \n",
        "  def forward(self, x):\n",
        "    encoded = self.encoder(x)\n",
        "    decoded = self.decoder(encoded)\n",
        "    return decoded\n",
        "\n",
        "  def predict(self, x):\n",
        "    self.eval()\n",
        "    with torch.no_grad():\n",
        "      y = self.forward(x)\n",
        "    return y\n",
        "\n",
        "x = torch.randn(10, 1, 28, 28)\n",
        "tessnet = AutoEncoder(10)\n",
        "print(tessnet(x).shape)"
      ],
      "metadata": {
        "colab": {
          "base_uri": "https://localhost:8080/"
        },
        "id": "8d8mvY_MrboB",
        "outputId": "9888f75c-abb4-4a9f-e190-0045d21ed64e"
      },
      "execution_count": 6,
      "outputs": [
        {
          "output_type": "stream",
          "name": "stdout",
          "text": [
            "torch.Size([10, 1, 28, 28])\n"
          ]
        }
      ]
    },
    {
      "cell_type": "markdown",
      "source": [
        "## Loss function for AE"
      ],
      "metadata": {
        "id": "5RO1rSkTRfUN"
      }
    },
    {
      "cell_type": "code",
      "source": [
        "#criterion = torch.nn.MSELoss()\n",
        "criterion = torch.nn.L1Loss()"
      ],
      "metadata": {
        "id": "ZaT9qcMtRhCA"
      },
      "execution_count": 7,
      "outputs": []
    },
    {
      "cell_type": "markdown",
      "source": [
        "## Training Loop for AE"
      ],
      "metadata": {
        "id": "9rwya9k0Rh_s"
      }
    },
    {
      "cell_type": "code",
      "source": [
        "tessnet = AutoEncoder(10).to(device)\n",
        "optimizer = torch.optim.Adam(tessnet.parameters(), lr=lr)\n",
        "\n",
        "for e in range(epochs):\n",
        "  for i, batch in enumerate(dataloader_train):\n",
        "    x, _ = batch\n",
        "    x = x.to(device)\n",
        "    pred = tessnet(x)\n",
        "    loss = criterion(pred, x)\n",
        "    optimizer.zero_grad()\n",
        "    loss.backward()\n",
        "    optimizer.step()\n",
        "    if i % 400 == 0:\n",
        "      print(f\"Epoch: {e} iter: {i} loss: {loss.item() }\")\n",
        "\n"
      ],
      "metadata": {
        "id": "JSP33jVjRj0r",
        "colab": {
          "base_uri": "https://localhost:8080/",
          "height": 461
        },
        "outputId": "e50d2893-f220-4591-e18b-421be8e2e6ae"
      },
      "execution_count": 8,
      "outputs": [
        {
          "output_type": "stream",
          "name": "stdout",
          "text": [
            "Epoch: 0 iter: 0 loss: 0.6992746591567993\n",
            "Epoch: 0 iter: 400 loss: 0.5310486555099487\n",
            "Epoch: 0 iter: 800 loss: 0.4564155042171478\n"
          ]
        },
        {
          "output_type": "error",
          "ename": "KeyboardInterrupt",
          "evalue": "ignored",
          "traceback": [
            "\u001b[0;31m---------------------------------------------------------------------------\u001b[0m",
            "\u001b[0;31mKeyboardInterrupt\u001b[0m                         Traceback (most recent call last)",
            "\u001b[0;32m<ipython-input-8-bb229163a70b>\u001b[0m in \u001b[0;36m<module>\u001b[0;34m\u001b[0m\n\u001b[1;32m      9\u001b[0m     \u001b[0mloss\u001b[0m \u001b[0;34m=\u001b[0m \u001b[0mcriterion\u001b[0m\u001b[0;34m(\u001b[0m\u001b[0mpred\u001b[0m\u001b[0;34m,\u001b[0m \u001b[0mx\u001b[0m\u001b[0;34m)\u001b[0m\u001b[0;34m\u001b[0m\u001b[0;34m\u001b[0m\u001b[0m\n\u001b[1;32m     10\u001b[0m     \u001b[0moptimizer\u001b[0m\u001b[0;34m.\u001b[0m\u001b[0mzero_grad\u001b[0m\u001b[0;34m(\u001b[0m\u001b[0;34m)\u001b[0m\u001b[0;34m\u001b[0m\u001b[0;34m\u001b[0m\u001b[0m\n\u001b[0;32m---> 11\u001b[0;31m     \u001b[0mloss\u001b[0m\u001b[0;34m.\u001b[0m\u001b[0mbackward\u001b[0m\u001b[0;34m(\u001b[0m\u001b[0;34m)\u001b[0m\u001b[0;34m\u001b[0m\u001b[0;34m\u001b[0m\u001b[0m\n\u001b[0m\u001b[1;32m     12\u001b[0m     \u001b[0moptimizer\u001b[0m\u001b[0;34m.\u001b[0m\u001b[0mstep\u001b[0m\u001b[0;34m(\u001b[0m\u001b[0;34m)\u001b[0m\u001b[0;34m\u001b[0m\u001b[0;34m\u001b[0m\u001b[0m\n\u001b[1;32m     13\u001b[0m     \u001b[0;32mif\u001b[0m \u001b[0mi\u001b[0m \u001b[0;34m%\u001b[0m \u001b[0;36m400\u001b[0m \u001b[0;34m==\u001b[0m \u001b[0;36m0\u001b[0m\u001b[0;34m:\u001b[0m\u001b[0;34m\u001b[0m\u001b[0;34m\u001b[0m\u001b[0m\n",
            "\u001b[0;32m/usr/local/lib/python3.8/dist-packages/torch/_tensor.py\u001b[0m in \u001b[0;36mbackward\u001b[0;34m(self, gradient, retain_graph, create_graph, inputs)\u001b[0m\n\u001b[1;32m    485\u001b[0m                 \u001b[0minputs\u001b[0m\u001b[0;34m=\u001b[0m\u001b[0minputs\u001b[0m\u001b[0;34m,\u001b[0m\u001b[0;34m\u001b[0m\u001b[0;34m\u001b[0m\u001b[0m\n\u001b[1;32m    486\u001b[0m             )\n\u001b[0;32m--> 487\u001b[0;31m         torch.autograd.backward(\n\u001b[0m\u001b[1;32m    488\u001b[0m             \u001b[0mself\u001b[0m\u001b[0;34m,\u001b[0m \u001b[0mgradient\u001b[0m\u001b[0;34m,\u001b[0m \u001b[0mretain_graph\u001b[0m\u001b[0;34m,\u001b[0m \u001b[0mcreate_graph\u001b[0m\u001b[0;34m,\u001b[0m \u001b[0minputs\u001b[0m\u001b[0;34m=\u001b[0m\u001b[0minputs\u001b[0m\u001b[0;34m\u001b[0m\u001b[0;34m\u001b[0m\u001b[0m\n\u001b[1;32m    489\u001b[0m         )\n",
            "\u001b[0;32m/usr/local/lib/python3.8/dist-packages/torch/autograd/__init__.py\u001b[0m in \u001b[0;36mbackward\u001b[0;34m(tensors, grad_tensors, retain_graph, create_graph, grad_variables, inputs)\u001b[0m\n\u001b[1;32m    195\u001b[0m     \u001b[0;31m# some Python versions print out the first line of a multi-line function\u001b[0m\u001b[0;34m\u001b[0m\u001b[0;34m\u001b[0m\u001b[0;34m\u001b[0m\u001b[0m\n\u001b[1;32m    196\u001b[0m     \u001b[0;31m# calls in the traceback and some print out the last line\u001b[0m\u001b[0;34m\u001b[0m\u001b[0;34m\u001b[0m\u001b[0;34m\u001b[0m\u001b[0m\n\u001b[0;32m--> 197\u001b[0;31m     Variable._execution_engine.run_backward(  # Calls into the C++ engine to run the backward pass\n\u001b[0m\u001b[1;32m    198\u001b[0m         \u001b[0mtensors\u001b[0m\u001b[0;34m,\u001b[0m \u001b[0mgrad_tensors_\u001b[0m\u001b[0;34m,\u001b[0m \u001b[0mretain_graph\u001b[0m\u001b[0;34m,\u001b[0m \u001b[0mcreate_graph\u001b[0m\u001b[0;34m,\u001b[0m \u001b[0minputs\u001b[0m\u001b[0;34m,\u001b[0m\u001b[0;34m\u001b[0m\u001b[0;34m\u001b[0m\u001b[0m\n\u001b[1;32m    199\u001b[0m         allow_unreachable=True, accumulate_grad=True)  # Calls into the C++ engine to run the backward pass\n",
            "\u001b[0;31mKeyboardInterrupt\u001b[0m: "
          ]
        }
      ]
    },
    {
      "cell_type": "markdown",
      "source": [
        "## Architecture for VAE"
      ],
      "metadata": {
        "id": "T84vQddIRkUZ"
      }
    },
    {
      "cell_type": "code",
      "source": [
        "class VAE(torch.nn.Module):\n",
        "  \"\"\"Input is image, output is: \n",
        "     a) Mean  mu(z|x) -> (bsz, z_dim)\n",
        "     b) Sample z (bsz, z_dim) from latent space from Normal gaussian with mean mu and sigma z_dim, z_dim\n",
        "     c) Run decoder on sample get new mu\n",
        "     d) mse on generated and input\n",
        "  \"\"\"\n",
        "  def __init__(self, n_code, device):\n",
        "    \"\"\"Architecture: encoder decoder\n",
        "    \"\"\"\n",
        "    super().__init__()\n",
        "    self.encoder = Encoder(n_code)\n",
        "    self.decoder = Decoder(n_code)\n",
        "    self.fcmu = torch.nn.Linear(n_code, n_code)\n",
        "    self.fcsigma = torch.nn.Linear(n_code, n_code)\n",
        "    self.device = device\n",
        "\n",
        "  def reparametrize(self, mu, log_sigma):\n",
        "    sigma = torch.exp(0.5 * log_sigma)\n",
        "    noise = torch.randn_like(sigma).to(self.device)\n",
        "    return mu + sigma*noise\n",
        "\n",
        "  def forward(self, x):\n",
        "    encoded = self.encoder(x) # estimate of mean\n",
        "    relu_encoded = F.relu(encoded)\n",
        "\n",
        "    mu = self.fcmu(relu_encoded)\n",
        "    log_sigma = self.fcsigma(relu_encoded)\n",
        "\n",
        "    reparam = self.reparametrize(mu, log_sigma)\n",
        "    decoded = self.decoder(reparam)\n",
        "    normed = torch.sigmoid(decoded)\n",
        "    return normed, mu, log_sigma\n",
        "\n",
        "  def pred(self,x):\n",
        "    self.eval()\n",
        "    with torch.no_grad():\n",
        "      return self.forward(x)\n",
        "\n",
        "device = torch.device('cpu')\n",
        "x = torch.randn(bsz, 1, 28, 28)\n",
        "d = VAE(10, device=device)\n",
        "print(d(x)[0].shape) \n",
        "print(d(x)[1].shape)\n",
        "print(d(x)[2].shape) "
      ],
      "metadata": {
        "id": "ZKbNASTpRmMy",
        "colab": {
          "base_uri": "https://localhost:8080/"
        },
        "outputId": "d06c6207-dbd8-4238-8a7a-ae9dad164701"
      },
      "execution_count": 54,
      "outputs": [
        {
          "output_type": "stream",
          "name": "stdout",
          "text": [
            "torch.Size([10, 1, 28, 28])\n",
            "torch.Size([10, 10])\n",
            "torch.Size([10, 10])\n"
          ]
        }
      ]
    },
    {
      "cell_type": "markdown",
      "source": [
        "## Loss function for VAE"
      ],
      "metadata": {
        "id": "Race4BumRm-d"
      }
    },
    {
      "cell_type": "code",
      "source": [
        "def loss(pred, mu, log_sigma, input, kl_coeff):\n",
        "  \"\"\"Reconstruction loss + KL divergence\"\"\"\n",
        "  KLD = kl_coeff * (-0.5 * torch.sum(1 + log_sigma - mu.pow(2) - log_sigma.exp()))\n",
        "  Recon = F.binary_cross_entropy(pred, input)\n",
        "  return Recon + KLD"
      ],
      "metadata": {
        "id": "OxV-47I_RovZ"
      },
      "execution_count": 59,
      "outputs": []
    },
    {
      "cell_type": "markdown",
      "source": [
        "## Training Loop for VAE"
      ],
      "metadata": {
        "id": "snm4eHJKRpoB"
      }
    },
    {
      "cell_type": "code",
      "source": [
        "\n",
        "train_dict = collections.defaultdict(list)\n",
        "test_dict = collections.defaultdict(list)\n",
        "epochs = 5\n",
        "for sweep in np.arange(.1,.9,.1):\n",
        "  vae = VAE(128, device=device).to(device)\n",
        "  opt = torch.optim.Adam(vae.parameters(), lr=lr)\n",
        "  vae.train() \n",
        "  for e in range(epochs):\n",
        "    l_train = []\n",
        "    l_val = []\n",
        "    for batch_idx, (data, _) in enumerate(dataloader_train):\n",
        "      data = data.to(device)\n",
        "      \n",
        "      pred, mu, logsigma = vae(data)\n",
        "      l = loss(pred, mu, logsigma, data)\n",
        "\n",
        "      opt.zero_grad()\n",
        "      l.backward()\n",
        "      opt.step()\n",
        "\n",
        "      l_train.append(l.item())\n",
        "    for batch_idx, (data, _) in enumerate(dataloader_val):\n",
        "      data = data.to(device)\n",
        "      out, mu, log_sigma  = vae.pred(data)\n",
        "      l = loss(out, mu, log_sigma, data)\n",
        "      l_val.append(l.item())\n",
        "    print(f\"Sweep: {sweep} Epoch: {e}, train, {sum(l_train)}, val {sum(l_val)}\")\n",
        "\n",
        "    train_dict[sweep] += l_train\n",
        "    test_dict[sweep] += l_val\n"
      ],
      "metadata": {
        "id": "lrmRJaGrRrBx",
        "colab": {
          "base_uri": "https://localhost:8080/"
        },
        "outputId": "0dac0dfa-51ea-47b4-93f6-485dfa950e7b"
      },
      "execution_count": 86,
      "outputs": [
        {
          "output_type": "stream",
          "name": "stdout",
          "text": [
            "Sweep: 0.1 Epoch: 0, train, 1052.2823958843946, val 132.39244478940964\n",
            "Sweep: 0.1 Epoch: 1, train, 758.6629941686988, val 119.16123063862324\n",
            "Sweep: 0.1 Epoch: 2, train, 700.3832067027688, val 112.39919980615377\n",
            "Sweep: 0.1 Epoch: 3, train, 670.3438674807549, val 107.9365866035223\n",
            "Sweep: 0.1 Epoch: 4, train, 652.1701605170965, val 105.90402025729418\n",
            "Sweep: 0.2 Epoch: 0, train, 1133.0551175624132, val 142.7015279829502\n",
            "Sweep: 0.2 Epoch: 1, train, 806.90037278831, val 125.6901871189475\n",
            "Sweep: 0.2 Epoch: 2, train, 735.3560212999582, val 116.63684186339378\n",
            "Sweep: 0.2 Epoch: 3, train, 689.9656659513712, val 111.33668833971024\n",
            "Sweep: 0.2 Epoch: 4, train, 658.6668943092227, val 105.97896807640791\n",
            "Sweep: 0.30000000000000004 Epoch: 0, train, 1123.9906703680754, val 141.05116266012192\n",
            "Sweep: 0.30000000000000004 Epoch: 1, train, 773.0431642085314, val 117.26876205950975\n",
            "Sweep: 0.30000000000000004 Epoch: 2, train, 701.2904849126935, val 112.53767513483763\n",
            "Sweep: 0.30000000000000004 Epoch: 3, train, 668.6505294665694, val 106.99412924051285\n",
            "Sweep: 0.30000000000000004 Epoch: 4, train, 650.9644083976746, val 104.75088284909725\n",
            "Sweep: 0.4 Epoch: 0, train, 1003.3248408809304, val 118.91319338232279\n",
            "Sweep: 0.4 Epoch: 1, train, 667.3598181381822, val 102.78290385007858\n",
            "Sweep: 0.4 Epoch: 2, train, 606.9419212043285, val 96.81128584593534\n",
            "Sweep: 0.4 Epoch: 3, train, 579.2169899046421, val 93.51497832685709\n",
            "Sweep: 0.4 Epoch: 4, train, 562.9762645438313, val 91.537507109344\n",
            "Sweep: 0.5 Epoch: 0, train, 1052.8471564650536, val 132.5044183433056\n",
            "Sweep: 0.5 Epoch: 1, train, 752.5277742296457, val 116.28836553543806\n",
            "Sweep: 0.5 Epoch: 2, train, 685.1032686308026, val 107.73393601924181\n",
            "Sweep: 0.5 Epoch: 3, train, 645.3963096737862, val 104.05821383744478\n",
            "Sweep: 0.5 Epoch: 4, train, 624.3999407589436, val 100.22798962891102\n",
            "Sweep: 0.6 Epoch: 0, train, 1147.3047520816326, val 141.2484601289034\n",
            "Sweep: 0.6 Epoch: 1, train, 790.508841149509, val 121.99042591452599\n",
            "Sweep: 0.6 Epoch: 2, train, 720.5229806229472, val 114.02234098315239\n",
            "Sweep: 0.6 Epoch: 3, train, 687.4720818549395, val 111.18321111053228\n",
            "Sweep: 0.6 Epoch: 4, train, 666.6579076573253, val 111.43244972079992\n",
            "Sweep: 0.7000000000000001 Epoch: 0, train, 1040.952567987144, val 136.14664313197136\n",
            "Sweep: 0.7000000000000001 Epoch: 1, train, 772.7163150683045, val 120.88244764506817\n",
            "Sweep: 0.7000000000000001 Epoch: 2, train, 723.0648094415665, val 116.4408897832036\n",
            "Sweep: 0.7000000000000001 Epoch: 3, train, 699.0546810179949, val 112.68821613490582\n",
            "Sweep: 0.7000000000000001 Epoch: 4, train, 682.4976296722889, val 110.89175294339657\n",
            "Sweep: 0.8 Epoch: 0, train, 1151.8707086071372, val 143.95976642519236\n",
            "Sweep: 0.8 Epoch: 1, train, 799.369122326374, val 122.76399771869183\n",
            "Sweep: 0.8 Epoch: 2, train, 714.2805877923965, val 112.82033045589924\n",
            "Sweep: 0.8 Epoch: 3, train, 672.0611818432808, val 108.18966989964247\n",
            "Sweep: 0.8 Epoch: 4, train, 645.9172659516335, val 107.85332072526217\n"
          ]
        }
      ]
    },
    {
      "cell_type": "code",
      "source": [
        "import matplotlib.pyplot as plt\n",
        "from cycler import cycler\n",
        "custom_cycler = (cycler(color=['b','g', 'r','c', 'm', 'y', 'k', 'r']))\n",
        "plt.rc('axes', prop_cycle=custom_cycler)\n",
        "fig, (ax0, ax1) = plt.subplots(ncols=2)\n",
        "\n",
        "for t in train_dict.keys():\n",
        "  #print(t)\n",
        "  ax0.plot(train_dict[t])\n",
        "ax0.set_title(\"Training\")\n",
        "\n",
        "for t in test_dict.keys():\n",
        "  ax1.plot(test_dict[t])\n",
        "ax1.set_title(\"test\")"
      ],
      "metadata": {
        "colab": {
          "base_uri": "https://localhost:8080/",
          "height": 299
        },
        "id": "RvaTRDxBxNyU",
        "outputId": "400441c2-2ba2-4066-ec2b-f2d8b9cf82cc"
      },
      "execution_count": 87,
      "outputs": [
        {
          "output_type": "execute_result",
          "data": {
            "text/plain": [
              "Text(0.5, 1.0, 'test')"
            ]
          },
          "metadata": {},
          "execution_count": 87
        },
        {
          "output_type": "display_data",
          "data": {
            "text/plain": [
              "<Figure size 432x288 with 2 Axes>"
            ],
            "image/png": "[encoded data removed]"
          },
          "metadata": {
            "needs_background": "light"
          }
        }
      ]
    },
    {
      "cell_type": "markdown",
      "source": [
        "## Compare generations from AE vs VAE"
      ],
      "metadata": {
        "id": "rMqS7uYZRrgF"
      }
    },
    {
      "cell_type": "code",
      "source": [
        "img, bleh = next(iter(dataloader_train))\n",
        "output,mu,sig = vae.pred(img.to(device))\n",
        "\n",
        "img.to(torch.device('cpu'))\n",
        "output = output.cpu()\n",
        "dim = (4,2)\n",
        "fig, axs = plt.subplots(*dim)\n",
        "for row in range(dim[0]):\n",
        "  axs[row, 0].imshow(img[row].reshape(28,28), cmap=\"gray\")\n",
        "  axs[row, 1].imshow(output[row].reshape(28,28), cmap=\"gray\")"
      ],
      "metadata": {
        "id": "dKksDxsGRtaP",
        "colab": {
          "base_uri": "https://localhost:8080/",
          "height": 268
        },
        "outputId": "8ef23353-4993-455b-a4c4-68ed9e6d3732"
      },
      "execution_count": 88,
      "outputs": [
        {
          "output_type": "display_data",
          "data": {
            "text/plain": [
              "<Figure size 432x288 with 8 Axes>"
            ],
            "image/png": "[encoded data removed]"
          },
          "metadata": {
            "needs_background": "light"
          }
        }
      ]
    },
    {
      "cell_type": "code",
      "source": [
        "# sample \n",
        "N = torch.distributions.Normal(0,1)\n",
        "outputs = []\n",
        "for i in range(8):\n",
        "  z = N.sample_n(128).to(device)\n",
        "  z = z.unsqueeze(0)\n",
        "  vae.eval()\n",
        "\n",
        "  with torch.no_grad():\n",
        "    output = torch.sigmoid(vae.decoder(z))\n",
        "  outputs.append(output)\n",
        "  \n",
        "\n",
        "dim = (8,1)\n",
        "fig, axs = plt.subplots(*dim)\n",
        "for row in range(dim[0]):\n",
        "  o = outputs[row].cpu()\n",
        "  axs[row].imshow(o.reshape(28,28), cmap=\"gray\")\n"
      ],
      "metadata": {
        "colab": {
          "base_uri": "https://localhost:8080/",
          "height": 305
        },
        "id": "i4lAGTJ5FT4K",
        "outputId": "bbee520a-0fac-4de6-82e8-9888f071261c"
      },
      "execution_count": 99,
      "outputs": [
        {
          "output_type": "stream",
          "name": "stderr",
          "text": [
            "/usr/local/lib/python3.8/dist-packages/torch/distributions/distribution.py:167: UserWarning: sample_n will be deprecated. Use .sample((n,)) instead\n",
            "  warnings.warn('sample_n will be deprecated. Use .sample((n,)) instead', UserWarning)\n"
          ]
        },
        {
          "output_type": "display_data",
          "data": {
            "text/plain": [
              "<Figure size 432x288 with 8 Axes>"
            ],
            "image/png": "[encoded data removed]"
          },
          "metadata": {
            "needs_background": "light"
          }
        }
      ]
    }
  ]
}